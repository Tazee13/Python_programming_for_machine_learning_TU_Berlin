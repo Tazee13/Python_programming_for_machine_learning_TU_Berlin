{
 "cells": [
  {
   "cell_type": "markdown",
   "metadata": {},
   "source": [
    "## Before you start working on the exercise\n",
    "\n",
    "- Use Python version 3.9 and above.\n",
    "- It is highly recommended to create a virtual environment for this course. You can find resources on how to create a virtual environment on the ISIS page of the course.\n",
    "- Make sure that no assertions fail or exceptions occur, otherwise points will be subtracted.\n",
    "- Use all the variables given to a function unless explicitly stated otherwise. If you are not using a variable you are doing something wrong.\n",
    "- Read the **whole** task description before starting with your solution.\n",
    "- After you submit the notebook more tests will be run on your code. The fact that no assertions fail on your computer locally does not guarantee that you completed the exercise correctly.\n",
    "- Please submit only the notebook file with its original name. If you do not submit an `ipynb` file you will fail the exercise.\n",
    "- Edit only between YOUR CODE HERE and END YOUR CODE.\n",
    "- Verify that no syntax errors are present in the file.\n",
    "- Before uploading your submission, make sure everything runs as expected. First, restart the kernel (in the menubar, select Kernel\\Restart) and then run all cells (in the menubar, select Cell\\Run All)."
   ]
  },
  {
   "cell_type": "code",
   "execution_count": 31,
   "metadata": {},
   "outputs": [
    {
     "name": "stdout",
     "output_type": "stream",
     "text": [
      "Correct Python version\n"
     ]
    }
   ],
   "source": [
    "import sys\n",
    "\n",
    "if (3, 9) <= sys.version_info[:2] <= (3, 11):\n",
    "    print(\"Correct Python version\")\n",
    "else:\n",
    "    print(\n",
    "        f\"You are using a wrong version of Python: {'.'.join(map(str,sys.version_info[:3]))}\"\n",
    "    )"
   ]
  },
  {
   "cell_type": "markdown",
   "metadata": {
    "deletable": false,
    "editable": false,
    "nbgrader": {
     "cell_type": "markdown",
     "checksum": "0a620de592d9efa574182c239181f762",
     "grade": false,
     "grade_id": "cell-78cd1baff9635896",
     "locked": true,
     "schema_version": 3,
     "solution": false,
     "task": false
    }
   },
   "source": [
    "# Exercise Sheet 3: Advanced Numpy\n",
    "\n",
    "In the third exercise sheet we will work on advanced numpy topics and application on machine learning tasks. You will implement the complete datascience pipline, starting with data loading, plotting and data exploration, and finally implementing a machine learning model and applying it on the data.\n",
    "\n",
    "For each exercise there will be a maximum number of loops allowed. If your function contains more loops than allowed, you will be notified during the function definition, and the function will automatically fail in the hidden tests. \n",
    "\n",
    "For technical reasons the following functions are **banned** throughout the notebook.\n",
    "\n",
    "- `map`\n",
    "- `sum` (`np.sum` is allowed)\n",
    "- `filter`\n",
    "- `np.vectorize`\n",
    "- `np.fromiter`\n",
    "- `np.fromfunction`\n",
    "- `np.apply_along_axis`\n",
    "\n",
    "If you use one of these functions in your submissions it will **automatically fail**. The use of `np.sum` is allowed."
   ]
  },
  {
   "cell_type": "code",
   "execution_count": 32,
   "metadata": {
    "deletable": false,
    "editable": false,
    "nbgrader": {
     "cell_type": "code",
     "checksum": "10c20ac759eaec9fa904a23141598b4f",
     "grade": true,
     "grade_id": "cell-bfc2ecb9fb8fec38",
     "locked": true,
     "points": 0,
     "schema_version": 3,
     "solution": false,
     "task": false
    }
   },
   "outputs": [],
   "source": [
    "# EXECUTE the setup cell !\n",
    "from unittest import TestCase\n",
    "\n",
    "t = TestCase()\n",
    "\n",
    "from minified import max_allowed_loops, no_imports\n",
    "from illegal import IllegalContext, create_no_loop_illegals\n"
   ]
  },
  {
   "cell_type": "markdown",
   "metadata": {
    "deletable": false,
    "editable": false,
    "nbgrader": {
     "cell_type": "markdown",
     "checksum": "a0ed82d6df04b4a81ef8534faea4f8a7",
     "grade": false,
     "grade_id": "read-from-file-desc",
     "locked": true,
     "schema_version": 3,
     "solution": false,
     "task": false
    }
   },
   "source": [
    "### Exercise 1.1: ( 8 points ) \n",
    "\n",
    "Read the data from the file data.csv and save it in a dictionary. The letters in data.csv are the assigned labels and their corresponding datapoints. Each datapoint is two-dimensional and consists of the given x- and y-values. Return a dictionary with the letters/labels as keys. The value assigned to each key should be a list of x- and y-values. \n",
    "\n",
    "* Do not forget to cast the vaules to float.\n",
    "\n",
    "<!-- * TODO: Is the list allowed to be two dimensional? -->\n",
    "\n",
    "* Number of loops allowed in this exercise: 1"
   ]
  },
  {
   "cell_type": "code",
   "execution_count": 33,
   "metadata": {},
   "outputs": [
    {
     "data": {
      "text/plain": [
       "{'A': 1, 'B': 2}"
      ]
     },
     "execution_count": 33,
     "metadata": {},
     "output_type": "execute_result"
    }
   ],
   "source": [
    "B = {'A': 3,\n",
    "     'B': 2,\n",
    "    }\n",
    "B['A']= 1\n",
    "B"
   ]
  },
  {
   "cell_type": "code",
   "execution_count": 34,
   "metadata": {
    "deletable": false,
    "nbgrader": {
     "cell_type": "code",
     "checksum": "7acbd320d76c7eb007e215821a9d4930",
     "grade": false,
     "grade_id": "read-from-file",
     "locked": false,
     "schema_version": 3,
     "solution": true,
     "task": false
    }
   },
   "outputs": [],
   "source": [
    "@no_imports\n",
    "@max_allowed_loops(1)\n",
    "def read_from_file(file=\"data.csv\"):\n",
    "    \"\"\"\n",
    "    Opens a csv file and parses it line by line. Each line consists of a label and two\n",
    "    data dimensions. The function returns a dictionary where each key is a label and\n",
    "    the value is a list of all the datapoints that have that label. Each datapoint\n",
    "    is represented by a pair (2-element tuple) of floats.\n",
    "\n",
    "    Args:\n",
    "        file: The path to the file to open and parse. Defaults to\n",
    "        \"data.csv\".\n",
    "\n",
    "    Returns:\n",
    "        The parsed contents of the csv file\n",
    "    \"\"\"\n",
    "    # YOUR CODE HERE\n",
    "    \n",
    "    D = {}\n",
    "    with open(file, 'r') as data:\n",
    "        for row in data:\n",
    "            row = row.strip().split(',')\n",
    "            label = row[0]\n",
    "            datapoint = (float(row[1]),float(row[2]))\n",
    "            if label not in D.keys():\n",
    "                D[label] = []\n",
    "            D[label].append(datapoint)\n",
    "            \n",
    "    # YOUR CODE HERE\n",
    "    \n",
    "    return D"
   ]
  },
  {
   "cell_type": "code",
   "execution_count": 35,
   "metadata": {
    "deletable": false,
    "editable": false,
    "nbgrader": {
     "cell_type": "code",
     "checksum": "ee2ff9f76638b3e6cc97239adaac6fe6",
     "grade": true,
     "grade_id": "cell-9df4522a7b9adedd",
     "locked": true,
     "points": 8,
     "schema_version": 3,
     "solution": false,
     "task": false
    }
   },
   "outputs": [
    {
     "name": "stdout",
     "output_type": "stream",
     "text": [
      "tiny_result {'A': [(0.8, 0.9), (0.2, 0.3)], 'B': [(0.9, 0.1)], 'C': [(2.0, 4.0)]}\n",
      "Keys of D: dict_keys(['N', 'M', 'U'])\n",
      "\n",
      "155 datapoints were assigned the label N\n",
      "168 datapoints were assigned the label M\n",
      "132 datapoints were assigned the label U\n"
     ]
    }
   ],
   "source": [
    "tiny_result = read_from_file(file=\"tiny.csv\")\n",
    "print(\"tiny_result\", tiny_result)\n",
    "tiny_expected = {\"A\": [(0.8, 0.9), (0.2, 0.3)], \"B\": [(0.9, 0.1)], \"C\": [(2.0, 4.0)]}\n",
    "t.assertEqual(tiny_result, tiny_expected)\n",
    "\n",
    "D = read_from_file(file=\"data.csv\")\n",
    "print(f\"Keys of D: {D.keys()}\", end=\"\\n\\n\")\n",
    "for k, v in D.items():\n",
    "    print(f\"{len(v)} datapoints were assigned the label {k}\")\n",
    "\n",
    "# Test All types\n",
    "t.assertIsInstance(D, dict)\n",
    "for d in D:\n",
    "    t.assertIsInstance(d, str)\n",
    "    t.assertIsInstance(D[d], list)\n",
    "    for el in D[d]:\n",
    "        t.assertIsInstance(el, tuple)\n",
    "        t.assertIsInstance(el[0], float)\n",
    "        t.assertIsInstance(el[1], float)\n",
    "\n",
    "letters = \"MNU\"\n",
    "t.assertEqual(set(D.keys()), set(letters))\n",
    "t.assertTrue(all(len(v) > 99 for v in D.values()))\n",
    "read_from_file.assert_not_too_many_loops()\n",
    "read_from_file.assert_no_imports()"
   ]
  },
  {
   "cell_type": "code",
   "execution_count": 36,
   "metadata": {
    "deletable": false,
    "editable": false,
    "nbgrader": {
     "cell_type": "code",
     "checksum": "e55e224dae60a7827087644175573650",
     "grade": true,
     "grade_id": "cell-c457103f016f505a",
     "locked": true,
     "points": 0,
     "schema_version": 3,
     "solution": false,
     "task": false
    }
   },
   "outputs": [],
   "source": [
    "# This cell is for grading"
   ]
  },
  {
   "cell_type": "markdown",
   "metadata": {
    "deletable": false,
    "editable": false,
    "nbgrader": {
     "cell_type": "markdown",
     "checksum": "8df2e148b6dd85e05daec2403fa3f47d",
     "grade": false,
     "grade_id": "cell-3defd523da9ddb93",
     "locked": true,
     "schema_version": 3,
     "solution": false,
     "task": false
    }
   },
   "source": [
    "### Exercise 1.2: ( 5 Pts )\n",
    "\n",
    "Use numpy to stack all of the $N$ datapoints from the dictionary into one matrix $X$, containing the data.\n",
    "\n",
    "Additionally, create one array $y$ with the corresponding integer labels. \n",
    "\n",
    "Each datapoint $x_i \\in X, \\> i = \\overline{1..N}$ is of dimension $D=2$. The label assigned to a datapoint has to be a positive integer. Every letter-label should map to one integer-label in $y$ accordingly.\n",
    "\n",
    "Maping example: $A \\rightarrow 0,\\> C \\rightarrow 1,\\> K \\rightarrow 2, ...$ (The order of the keys/labels defines the numeric label. The first key is mapped to 0 and so on.)\n",
    "\n",
    "* Dataset $X$: $$\\Large X \\in \\mathbb{R}^{(N, D)}$$\n",
    "* Labels $y$: $$\\Large y \\in \\mathbb{N}^{(N,)} $$\n",
    "\n",
    "* Number of loops allowed in this exercise: 1 (for iterating over the keys of the dictionary)"
   ]
  },
  {
   "cell_type": "code",
   "execution_count": 37,
   "metadata": {
    "deletable": false,
    "editable": false,
    "nbgrader": {
     "cell_type": "code",
     "checksum": "6894ec5c652971e1d635edd9df830dd8",
     "grade": false,
     "grade_id": "cell-de6d83d74d8cd21b",
     "locked": true,
     "schema_version": 3,
     "solution": false,
     "task": false
    }
   },
   "outputs": [],
   "source": [
    "import numpy as np\n",
    "\n",
    "illegals = create_no_loop_illegals(np, __builtins__)\n",
    "no_loop_illegals_context = IllegalContext(illegals, globals())"
   ]
  },
  {
   "cell_type": "code",
   "execution_count": 38,
   "metadata": {
    "deletable": false,
    "nbgrader": {
     "cell_type": "code",
     "checksum": "267115fd0118cd8c72f95699907ffd23",
     "grade": false,
     "grade_id": "stack-data",
     "locked": false,
     "schema_version": 3,
     "solution": true,
     "task": false
    }
   },
   "outputs": [],
   "source": [
    "@no_imports\n",
    "@max_allowed_loops(1)\n",
    "def stack_data(D):\n",
    "    \"\"\"\n",
    "    Convert a dictionary dataset into a two arrays of data and labels. The dictionary\n",
    "    keys represent the labels and the value mapped to each key is a list that\n",
    "    contains all the datapoints belonging to that label. The output are two arrays\n",
    "    the first is the datapoints in a single 2d array and a vector of integers\n",
    "    with the corresponding label for each datapoint. The order of the datapoints is\n",
    "    preserved according to the order in the dictionary and the lists.\n",
    "\n",
    "    The labels are converted from a string to a unique int.\n",
    "\n",
    "    The datapoints are entered in the same order as the keys in the `D`. First\n",
    "    all the datapoints of the first key are entered then the second and so on.\n",
    "    Within one label order also remains.\n",
    "\n",
    "    Args:\n",
    "        D: The dictionary that should be stacked.\n",
    "\n",
    "    Returns:\n",
    "        The two output arrays. The first is a float-matrix containing all the\n",
    "        datapoints. The second is an int-vector containing the labels for each datapoint.\n",
    "    \"\"\"\n",
    "\n",
    "    # YOUR CODE HERE\n",
    "    \n",
    "    X_lst = []\n",
    "    y_lst = []\n",
    "    \n",
    "    for i, key in enumerate(D):\n",
    "        x_i = np.array(D[key], np.float64)\n",
    "        y_i = np.array([i]*len(D[key]), np.int64)\n",
    "        y_lst.append(y_i)\n",
    "        X_lst.append(x_i)\n",
    "    \n",
    "    X = np.concatenate(X_lst, axis = 0)\n",
    "    y = np.concatenate(y_lst, axis = 0)\n",
    "        \n",
    "    # YOUR CODE HERE\n",
    "    \n",
    "    return X, y"
   ]
  },
  {
   "cell_type": "code",
   "execution_count": 39,
   "metadata": {
    "deletable": false,
    "editable": false,
    "nbgrader": {
     "cell_type": "code",
     "checksum": "3b478cf72f0171f1d448d1c90b17c6e3",
     "grade": true,
     "grade_id": "cell-61647bd7c0adf999",
     "locked": true,
     "points": 5,
     "schema_version": 3,
     "solution": false,
     "task": false
    }
   },
   "outputs": [
    {
     "name": "stdout",
     "output_type": "stream",
     "text": [
      "[[0.  0.1]\n",
      " [0.9 0.7]\n",
      " [0.8 0.3]] [0 1 1]\n",
      "(455, 2) (455,)\n",
      "float64 int64\n",
      "Expected length for X, y: 455\n"
     ]
    }
   ],
   "source": [
    "tiny_expected_X, tiny_expected_y = (\n",
    "    np.array(\n",
    "        [\n",
    "            [0.0, 0.1],\n",
    "            [0.9, 0.7],\n",
    "            [0.8, 0.3],\n",
    "        ]\n",
    "    ),\n",
    "    np.array([0, 1, 1]),\n",
    ")\n",
    "tiny_result_X, tiny_result_y = stack_data(\n",
    "    {\"B\": [(0.0, 0.1)], \"A\": [(0.9, 0.7), (0.8, 0.3)]}\n",
    ")\n",
    "print(tiny_result_X, tiny_result_y)\n",
    "np.testing.assert_allclose(tiny_expected_X, tiny_result_X)\n",
    "np.testing.assert_allclose(tiny_expected_y, tiny_result_y)\n",
    "\n",
    "X, y = stack_data(D)\n",
    "print(X.shape, y.shape)\n",
    "print(X.dtype, y.dtype)\n",
    "\n",
    "expected_len = sum(len(x) for x in D.values())\n",
    "print(f\"Expected length for X, y: {expected_len}\")\n",
    "\n",
    "t.assertEqual(X.shape, (expected_len, 2))\n",
    "t.assertEqual(y.shape, (expected_len,))\n",
    "\n",
    "t.assertEqual(X.dtype, np.float64)\n",
    "t.assertEqual(y.dtype, np.int64)\n",
    "\n",
    "t.assertEqual(set(y), set(range(len(D))))\n",
    "\n",
    "with no_loop_illegals_context:\n",
    "    X, y = stack_data(D)\n",
    "\n",
    "stack_data.assert_not_too_many_loops()\n",
    "stack_data.assert_no_imports()"
   ]
  },
  {
   "cell_type": "code",
   "execution_count": 40,
   "metadata": {
    "deletable": false,
    "editable": false,
    "nbgrader": {
     "cell_type": "code",
     "checksum": "2a758d17a8188b86bf713060f41ee41e",
     "grade": true,
     "grade_id": "cell-c3d938239f97bc3e",
     "locked": true,
     "points": 0,
     "schema_version": 3,
     "solution": false,
     "task": false
    }
   },
   "outputs": [],
   "source": [
    "# This cell is for grading"
   ]
  },
  {
   "cell_type": "markdown",
   "metadata": {
    "deletable": false,
    "editable": false,
    "nbgrader": {
     "cell_type": "markdown",
     "checksum": "3960ef5c00a1b4899058e0192c6e50f3",
     "grade": false,
     "grade_id": "cell-d1207f635471e8b8",
     "locked": true,
     "schema_version": 3,
     "solution": false,
     "task": false
    }
   },
   "source": [
    "### Exercise 1.3: ( 4 Pts )\n",
    "\n",
    "Write a function that returns a list of all $k$ clusters $C$. A cluster $C_k$ is composed of every datapoint $X_i$ assigned with the label $k$. There are as many clusters $C_k$ as there are unique labels in $y$.\n",
    "\n",
    "\n",
    "$$\\Large{\\mathcal{C} = \\{ C_1, C_2, \\cdots, C_k \\},\\quad k = \\overline{1..K}}$$\n",
    "\n",
    "<br>\n",
    "\n",
    "$$\\Large C_k \\in \\mathbb{R}^{(N_k, D)}$$\n",
    "\n",
    "* Number of loops allowed in this exercise: 1"
   ]
  },
  {
   "cell_type": "code",
   "execution_count": 41,
   "metadata": {
    "deletable": false,
    "nbgrader": {
     "cell_type": "code",
     "checksum": "324bfc9ff0161e8c3fe75f60081acb24",
     "grade": false,
     "grade_id": "get-clusters",
     "locked": false,
     "schema_version": 3,
     "solution": true,
     "task": false
    }
   },
   "outputs": [],
   "source": [
    "@no_imports\n",
    "@max_allowed_loops(1)\n",
    "def get_clusters(X, y):\n",
    "    \"\"\"\n",
    "    Receives a labeled dataset and splits the datapoints according to label\n",
    "\n",
    "    Args:\n",
    "        X: The dataset\n",
    "        y: The label for each point in the dataset\n",
    "\n",
    "    Returns:\n",
    "        A list of arrays where the elements of each array are datapoints belonging to\n",
    "        the label at that index.\n",
    "\n",
    "    Example:\n",
    "    >>> get_clusters(\n",
    "            np.array([[0.8, 0.7], [0, 0.4], [0.3, 0.1]]),\n",
    "            np.array([0,1,0])\n",
    "        )\n",
    "    >>> [array([[0.8, 0.7],[0.3, 0.1]]),\n",
    "         array([[0. , 0.4]])]\n",
    "    \"\"\"\n",
    "    # YOUR CODE HERE\n",
    "\n",
    "    check_lst = []\n",
    "    cluster_lst = []\n",
    "    \n",
    "    for i in y:\n",
    "        if i not in check_lst:\n",
    "            cluster_lst.append(X[y == i])\n",
    "            check_lst.append(i)\n",
    "            \n",
    "    return cluster_lst\n",
    "    \n",
    "    # YOUR CODE HERE\n",
    "    "
   ]
  },
  {
   "cell_type": "code",
   "execution_count": 42,
   "metadata": {
    "deletable": false,
    "editable": false,
    "nbgrader": {
     "cell_type": "code",
     "checksum": "f14ee30c4f8fbcc11a0ff6d06ee2f51d",
     "grade": true,
     "grade_id": "cell-651e8faf9efa1d69",
     "locked": true,
     "points": 4,
     "schema_version": 3,
     "solution": false,
     "task": false
    }
   },
   "outputs": [
    {
     "name": "stdout",
     "output_type": "stream",
     "text": [
      "[array([[0.8, 0.7],\n",
      "       [0.3, 0.1]]), array([[0. , 0.4]])]\n"
     ]
    }
   ],
   "source": [
    "tiny_result = get_clusters(\n",
    "    np.array(\n",
    "        [\n",
    "            [0.8, 0.7],\n",
    "            [0, 0.4],\n",
    "            [0.3, 0.1],\n",
    "        ]\n",
    "    ),\n",
    "    np.array([0, 1, 0]),\n",
    ")\n",
    "print(tiny_result)\n",
    "tiny_expected = [\n",
    "    np.array(\n",
    "        [\n",
    "            [0.8, 0.7],\n",
    "            [0.3, 0.1],\n",
    "        ]\n",
    "    ),\n",
    "    np.array(\n",
    "        [\n",
    "            [0.0, 0.4],\n",
    "        ]\n",
    "    ),\n",
    "]\n",
    "for r, e in zip(tiny_result, tiny_expected):\n",
    "    np.testing.assert_allclose(r, e)\n",
    "\n",
    "clusters = get_clusters(X, y)\n",
    "# output is list\n",
    "t.assertIsInstance(clusters, list)\n",
    "t.assertEqual(len(letters), len(clusters))\n",
    "\n",
    "# all elements are arrays\n",
    "for el in clusters:\n",
    "    t.assertIsInstance(el, np.ndarray)\n",
    "\n",
    "t.assertEqual(sum(map(len, clusters)), len(X))\n",
    "\n",
    "with no_loop_illegals_context:\n",
    "    clusters = get_clusters(X, y)\n",
    "\n",
    "\n",
    "get_clusters.assert_not_too_many_loops()\n",
    "get_clusters.assert_no_imports()"
   ]
  },
  {
   "cell_type": "code",
   "execution_count": 43,
   "metadata": {
    "deletable": false,
    "editable": false,
    "nbgrader": {
     "cell_type": "code",
     "checksum": "a8fc69f7726657f0e452d84a6d71374d",
     "grade": true,
     "grade_id": "cell-c18b7a483384b26f",
     "locked": true,
     "points": 0,
     "schema_version": 3,
     "solution": false,
     "task": false
    }
   },
   "outputs": [],
   "source": [
    "# This cell is for grading"
   ]
  },
  {
   "cell_type": "markdown",
   "metadata": {},
   "source": [
    "### Exercise 1.4: ( 8 Pts )\n",
    "\n",
    "Split the data $X$ into training and testing data.\n",
    "\n",
    "* Return a list of clusters for training and a list of cluster for testing.\n",
    "\n",
    "\n",
    "* Utilize the function `train_test_idxs` from utils to split the data.\n",
    "\n",
    "- The train-test ratio should be 80-20\n",
    "\n",
    "* Use the function implemented in Exercise 1.3 __get_clusters(X,y)__ to get the clusters.\n",
    "\n",
    "* Remember that when you split the dataset you need to keep the relationship between the data and the labels. Do not split the data and labels independently\n",
    "\n",
    "\n",
    "* Number of loops allowed in this exercise: 0"
   ]
  },
  {
   "cell_type": "code",
   "execution_count": 44,
   "metadata": {
    "deletable": false,
    "editable": false,
    "nbgrader": {
     "cell_type": "code",
     "checksum": "7e4207de5a5caaba4ab6e0ddea3dda08",
     "grade": false,
     "grade_id": "cell-9ff46e2ea585fe4b",
     "locked": true,
     "schema_version": 3,
     "solution": false,
     "task": false
    }
   },
   "outputs": [
    {
     "name": "stdout",
     "output_type": "stream",
     "text": [
      "train_test_idxs specification:\n",
      " \n",
      "    Returns indices that can be used as train and test data.\n",
      "\n",
      "    Args:\n",
      "        L (int): The size of the dataset\n",
      "        test_ratio (float): The ratio [0-1] of indices that should be put in the test\n",
      "        set\n",
      "\n",
      "    Returns:\n",
      "        Tuple[np.ndarray, np.ndarray]: The training and testset indices\n",
      "    \n",
      "train_indices = [11  3  0 12  2  5  1 18 10 17 19  7 13  8]\n",
      "test_indices = [16 14 15  9  4  6]\n"
     ]
    }
   ],
   "source": [
    "from utils import train_test_idxs\n",
    "\n",
    "print(\"train_test_idxs specification:\\n\", train_test_idxs.__doc__)\n",
    "\n",
    "train_indices, test_indices = train_test_idxs(L=20, test_ratio=0.3)\n",
    "print(f\"train_indices = {train_indices}\")\n",
    "print(f\"test_indices = {test_indices}\")"
   ]
  },
  {
   "cell_type": "code",
   "execution_count": 45,
   "metadata": {
    "deletable": false,
    "nbgrader": {
     "cell_type": "code",
     "checksum": "36831bd753adeabdc237f7450541af22",
     "grade": false,
     "grade_id": "split",
     "locked": false,
     "schema_version": 3,
     "solution": true,
     "task": false
    }
   },
   "outputs": [],
   "source": [
    "@no_imports\n",
    "@max_allowed_loops(0)\n",
    "def split(X, y):\n",
    "    \"\"\"\n",
    "    Split the data into train and test sets. The training and test set are\n",
    "    clustered by label using `get_clusters`. The size of the training set\n",
    "    is 80% of the whole dataset\n",
    "\n",
    "    Args:\n",
    "        X: The dataset (2d)\n",
    "        y: The label of each datapoint in the dataset `X` (1d)\n",
    "\n",
    "    Returns:\n",
    "        The clustered training and testset\n",
    "    \"\"\"\n",
    "    # YOUR CODE HERE\n",
    "\n",
    "    # Separating the dataset and labels:\n",
    "    train_idx, test_idx = train_test_idxs(len(X), 0.2)\n",
    "    \n",
    "    X_train = X[train_idx]\n",
    "    X_test = X[test_idx]\n",
    "    \n",
    "    y_train = y[train_idx]\n",
    "    y_test = y[test_idx]\n",
    "    \n",
    "    # Clustering:\n",
    "    tr_clusters = get_clusters(X_train, y_train)                    \n",
    "    te_clusters = get_clusters(X_test, y_test)\n",
    "    \n",
    "    # YOUR CODE HERE\n",
    "    \n",
    "\n",
    "    return tr_clusters, te_clusters"
   ]
  },
  {
   "cell_type": "code",
   "execution_count": 46,
   "metadata": {
    "deletable": false,
    "editable": false,
    "nbgrader": {
     "cell_type": "code",
     "checksum": "658c5d771bfdfad7c826e978ca4b8dc3",
     "grade": true,
     "grade_id": "cell-ead3f23734e9cde2",
     "locked": true,
     "points": 8,
     "schema_version": 3,
     "solution": false,
     "task": false
    }
   },
   "outputs": [
    {
     "name": "stdout",
     "output_type": "stream",
     "text": [
      "percent_train = 0.8\n"
     ]
    }
   ],
   "source": [
    "output = split(X, y)\n",
    "tr_clusters, te_clusters = output\n",
    "t.assertIsInstance(output, tuple)\n",
    "t.assertIsInstance(tr_clusters, list)\n",
    "t.assertIsInstance(te_clusters, list)\n",
    "\n",
    "\n",
    "t.assertEqual(len(tr_clusters), len(te_clusters))\n",
    "t.assertEqual(len(tr_clusters), len(letters))\n",
    "t.assertEqual(len(te_clusters), len(letters))\n",
    "\n",
    "for el in tr_clusters + te_clusters:\n",
    "    t.assertIsInstance(el, np.ndarray)\n",
    "\n",
    "\n",
    "n_in_train = sum(map(len, tr_clusters))\n",
    "n_in_test = sum(map(len, te_clusters))\n",
    "t.assertEqual(n_in_train + n_in_test, len(X))\n",
    "\n",
    "percent_train = n_in_train / len(X)\n",
    "print(f\"percent_train = {percent_train}\")\n",
    "t.assertGreaterEqual(percent_train, 0.79)\n",
    "t.assertLessEqual(percent_train, 0.81)\n"
   ]
  },
  {
   "cell_type": "code",
   "execution_count": 47,
   "metadata": {
    "deletable": false,
    "editable": false,
    "nbgrader": {
     "cell_type": "code",
     "checksum": "029d6b5e7c3da4114f0de07253654235",
     "grade": true,
     "grade_id": "cell-1b9f3d481003661f",
     "locked": true,
     "points": 0,
     "schema_version": 3,
     "solution": false,
     "task": false
    }
   },
   "outputs": [],
   "source": [
    "# This cell is for grading"
   ]
  },
  {
   "cell_type": "markdown",
   "metadata": {},
   "source": [
    "### Exercise 1.5:  (9 Pts )\n",
    "\n",
    "Compute the mean $\\mu_k$ of each cluster $C_k$. Return a list of all cluster means $\\mu$.\n",
    "\n",
    "\n",
    "$$\\Large{\\mu = \\{ \\mu_1, \\mu_2, \\cdots, \\mu_k \\},\\quad k = \\overline{1..K}}$$\n",
    "\n",
    "\n",
    "\n",
    "* Number of elements in a cluster $k$:\n",
    "$$\\Large{N_k = | C_k |, \\quad C_k \\in \\mathbb{R}^{(N_k, D)}}$$\n",
    "\n",
    "\n",
    "\n",
    "* The $k$-th cluster mean $\\mu_k$:\n",
    "$$\\Large{ \\mu_k = \\frac{1}{N_k}\\sum_{x_i \\in C_k} x_i }$$\n",
    "\n",
    "\n",
    "\n",
    "* Number of loops allowed in this exercise: 1 (to iterate over the clusters)"
   ]
  },
  {
   "cell_type": "code",
   "execution_count": 48,
   "metadata": {
    "deletable": false,
    "nbgrader": {
     "cell_type": "code",
     "checksum": "33c8d2e3cddc0a89b900dbb91a1178ea",
     "grade": false,
     "grade_id": "calc-means",
     "locked": false,
     "schema_version": 3,
     "solution": true,
     "task": false
    }
   },
   "outputs": [],
   "source": [
    "@no_imports\n",
    "@max_allowed_loops(1)\n",
    "def calc_means(clusters):\n",
    "    \"\"\"\n",
    "    For a collections of clusters calculate the mean for each cluster\n",
    "\n",
    "    Args:\n",
    "        clusters: A list of 2d arrays. Each array in the list corresponds to a cluster.\n",
    "\n",
    "    Returns:\n",
    "        A matrix where each row represents the mean of a cluster.\n",
    "    \"\"\"\n",
    "    # YOUR CODE HERE\n",
    "    \n",
    "    mean_lst = []\n",
    "    \n",
    "    for i in clusters:\n",
    "        mean_lst.append(np.mean(i, axis = 0))\n",
    "                        \n",
    "    return np.array(mean_lst)\n",
    "    \n",
    "    # YOUR CODE HERE\n",
    "    "
   ]
  },
  {
   "cell_type": "code",
   "execution_count": 49,
   "metadata": {
    "deletable": false,
    "editable": false,
    "nbgrader": {
     "cell_type": "code",
     "checksum": "7fab965e51f39206fa6dfd8724a5a1e5",
     "grade": true,
     "grade_id": "cell-417ff17a7f89706b",
     "locked": true,
     "points": 9,
     "schema_version": 3,
     "solution": false,
     "task": false
    }
   },
   "outputs": [
    {
     "name": "stdout",
     "output_type": "stream",
     "text": [
      "[[0.15 0.25]\n",
      " [0.7  0.7 ]]\n",
      "\n",
      "[[ 1.013032    1.475472  ]\n",
      " [ 7.20163889  6.86493519]\n",
      " [-0.74180153 -0.82074809]]\n"
     ]
    }
   ],
   "source": [
    "tiny_clusters = [\n",
    "    np.array([[0.2, 0.3], [0.1, 0.2]]),\n",
    "    np.array([[0.8, 0.9], [0.7, 0.5], [0.6, 0.7]]),\n",
    "]\n",
    "tiny_result = calc_means(tiny_clusters)\n",
    "print(tiny_result, end=\"\\n\\n\")\n",
    "tiny_expected = np.array([[0.15, 0.25], [0.7, 0.7]])\n",
    "np.testing.assert_allclose(tiny_result, tiny_expected)\n",
    "\n",
    "means = calc_means(tr_clusters)\n",
    "print(means)\n",
    "t.assertIsInstance(means, np.ndarray)\n",
    "t.assertEqual(means.shape, (len(letters), 2))\n"
   ]
  },
  {
   "cell_type": "code",
   "execution_count": 50,
   "metadata": {
    "deletable": false,
    "editable": false,
    "nbgrader": {
     "cell_type": "code",
     "checksum": "5a727279011d56089cd78de1989603e4",
     "grade": true,
     "grade_id": "cell-a78860f98dee20d8",
     "locked": true,
     "points": 0,
     "schema_version": 3,
     "solution": false,
     "task": false
    }
   },
   "outputs": [],
   "source": [
    "# This cell is for grading"
   ]
  },
  {
   "cell_type": "markdown",
   "metadata": {
    "deletable": false,
    "editable": false,
    "nbgrader": {
     "cell_type": "markdown",
     "checksum": "d2d17ff970cc2d8d50e0a6470dde054f",
     "grade": false,
     "grade_id": "cell-b0c8b58fdd2f7385",
     "locked": true,
     "points": 0,
     "schema_version": 3,
     "solution": false,
     "task": true
    }
   },
   "source": [
    "### Exercise 2.1: Scatter plot of clusters ( 10 points )\n",
    "\n",
    "- Create a scatter plot of size 8x8. \n",
    "\n",
    "- Plot each datapoint of a cluster $x_{ik} \\in  C_k$ as dots with an alpha value of 0.6 and a label. \n",
    "\n",
    "- The plot-label should contain both the cluster's letter-label as well as its integer-label. \n",
    "\n",
    "- Further, plot the cluster's mean $\\mu_k$ as a red cross of size 7. The plot should also have a label for each cluster's mean, giving information on its exact coordinates. \n",
    "\n",
    "- The title of the plot should be _'Scatter plot of the clusters'_ in fontsize 20.\n",
    "\n",
    "* Label for the scatter plots example: _A = 0_\n",
    "* Label for the cluster means example (use LaTeX): _$\\mu_A:$[1.23  0.56]_\n",
    "\n",
    "- If the mean of each cluster is not provided, use `calc_means(clusters)` to calculate the means.\n",
    "\n",
    "\n",
    "* Number of loops allowed in this exercise: 1 (for iteration over the clusters)\n"
   ]
  },
  {
   "cell_type": "code",
   "execution_count": 51,
   "metadata": {
    "deletable": false,
    "editable": false,
    "nbgrader": {
     "cell_type": "code",
     "checksum": "56918e905fd6f1ee3eb83c46745bec37",
     "grade": false,
     "grade_id": "cell-cf145588f2264965",
     "locked": true,
     "schema_version": 3,
     "solution": false,
     "task": false
    }
   },
   "outputs": [],
   "source": [
    "import matplotlib.pyplot as plt\n",
    "\n",
    "%matplotlib inline"
   ]
  },
  {
   "cell_type": "code",
   "execution_count": 54,
   "metadata": {
    "deletable": false,
    "nbgrader": {
     "cell_type": "code",
     "checksum": "bc9f6da638b0da4ffe5ae475d2462ff8",
     "grade": true,
     "grade_id": "plot-scatter",
     "locked": false,
     "points": 10,
     "schema_version": 3,
     "solution": true,
     "task": false
    }
   },
   "outputs": [],
   "source": [
    "@no_imports\n",
    "def plot_scatter_and_mean(clusters, letters, means=None) -> None:\n",
    "    \"\"\"\n",
    "    Create a scatter plot visualizing each cluster and its mean\n",
    "\n",
    "    Args:\n",
    "        clusters: A list containing arrrays representing\n",
    "        each cluster\n",
    "        letters: The \"name\" of each cluster\n",
    "        means: The mean of each cluster. If not\n",
    "        provided the mean of each cluster in `clusters` should be calculated and\n",
    "        used\n",
    "    \"\"\"\n",
    "    assert len(letters) == len(clusters)\n",
    "\n",
    "    # YOUR CODE HERE\n",
    "    \n",
    "    if means is None:\n",
    "        means = calc_means(clusters)\n",
    "    \n",
    "    fig, ax = plt.subplots(figsize = (8,8))\n",
    "    \n",
    "    for i in range(len(clusters)):\n",
    "        ax.plot(clusters[i][:,0], clusters[i][:,1], 'o', alpha = 0.6, label = f'{letters[i]} = {i}')\n",
    "        ax.plot(means[i][0], means[i][1], 'X', color = 'red', ms = 7, label = f'$\\\\mu_{letters[i]}$: ({means[i][0]:.2f},{means[i][1]:.2f})')\n",
    "    \n",
    "    ax.set_title('Scatter plot of the clusters', fontsize = 20)\n",
    "    ax.legend(loc = 'best')\n",
    "    \n",
    "    # YOUR CODE HERE\n",
    "    "
   ]
  },
  {
   "cell_type": "code",
   "execution_count": 55,
   "metadata": {
    "deletable": false,
    "editable": false,
    "nbgrader": {
     "cell_type": "code",
     "checksum": "1c5cbcfacd39d6d31ff7dbafc0db52b5",
     "grade": false,
     "grade_id": "cell-0c2f0435cc96e58a",
     "locked": true,
     "schema_version": 3,
     "solution": false,
     "task": false
    }
   },
   "outputs": [
    {
     "data": {
      "image/png": "[encoded data removed]",
      "text/plain": [
       "<Figure size 576x576 with 1 Axes>"
      ]
     },
     "metadata": {
      "needs_background": "light"
     },
     "output_type": "display_data"
    }
   ],
   "source": [
    "plot_scatter_and_mean(tr_clusters, letters, means=None)"
   ]
  },
  {
   "cell_type": "markdown",
   "metadata": {
    "deletable": false,
    "editable": false,
    "nbgrader": {
     "cell_type": "markdown",
     "checksum": "d3d25347d6d0fc4f8bbe925672c3c400",
     "grade": false,
     "grade_id": "cell-afffe3532473fb6d",
     "locked": true,
     "schema_version": 3,
     "solution": false,
     "task": false
    }
   },
   "source": [
    "### Exercise 2.2: (10 points)\n",
    "\n",
    " - To make it easier to visually analyse the the differences between clusters, the data can be projected onto an axis. Plot a histrogram for the projection onto the given axis. \n",
    " \n",
    " - The histogram should have 30 bins, be 50% transparent and labeled. The area under the histogram should be normalized and sum to 1 to represent a proper distribution. It can be done by setting the corresponding parameter.  - The bars width should have 4/5 of the bins width.\n",
    "\n",
    "\n",
    "- Create a scatter plot of size 14x5.\n",
    "* Plot the mean of each cluster as a vertical, dashed, red line.\n",
    "* Label for the histograms example: _A_\n",
    "* The title of the plot should be dynamic, have a font size of 20 and explain the axis of the projection, e.g. \"Projection to axis 0 histogramm plot\" or \"Projection to axis 1 histogramm plot\", depending on the axis.\n",
    "\n",
    "\n",
    "* Number of loops allowed in this exercise: 1 (to iterate over the clusters)"
   ]
  },
  {
   "cell_type": "code",
   "execution_count": 66,
   "metadata": {
    "deletable": false,
    "nbgrader": {
     "cell_type": "code",
     "checksum": "dfea9d3c43ba8de4341f63480ddb8e43",
     "grade": true,
     "grade_id": "plot-projection",
     "locked": false,
     "points": 10,
     "schema_version": 3,
     "solution": true,
     "task": false
    }
   },
   "outputs": [],
   "source": [
    "@no_imports\n",
    "def plot_projection(clusters, letters, means, axis=0):\n",
    "    \"\"\"\n",
    "    Plot a histogram of the dimension provided in `axis`\n",
    "\n",
    "    Args:\n",
    "        clusters: The clusters from which to create the historgram\n",
    "        letters: The string representation of each class\n",
    "        means: The mean of each class\n",
    "        axis: The axis from which to create the historgram. Defaults to 0.\n",
    "    \"\"\"\n",
    "    # YOUR CODE HERE\n",
    "    \n",
    "    fig, ax = plt.subplots(figsize = (14,5))\n",
    "    \n",
    "    for i in range(len(clusters)):\n",
    "        ax.hist(clusters[i][:,axis], bins = 30, alpha = 0.5, rwidth = 4/5, label = letters[i], density = True)\n",
    "        ax.axvline(means[i][axis], ls ='--', c = 'r')\n",
    "    \n",
    "    ax.set_title(f'Projection to axis {axis} histogram plot')\n",
    "    ax.legend(loc = 'best')\n",
    "    \n",
    "    # YOUR CODE HERE\n",
    "    "
   ]
  },
  {
   "cell_type": "code",
   "execution_count": 67,
   "metadata": {
    "deletable": false,
    "editable": false,
    "nbgrader": {
     "cell_type": "code",
     "checksum": "1640acd2896aa489504d6eb3122bf710",
     "grade": false,
     "grade_id": "cell-b7631b4add7c4883",
     "locked": true,
     "schema_version": 3,
     "solution": false,
     "task": false
    }
   },
   "outputs": [
    {
     "data": {
      "image/png": "[encoded data removed]",
      "text/plain": [
       "<Figure size 1008x360 with 1 Axes>"
      ]
     },
     "metadata": {
      "needs_background": "light"
     },
     "output_type": "display_data"
    }
   ],
   "source": [
    "plot_projection(tr_clusters, letters, means, axis=0)"
   ]
  },
  {
   "cell_type": "code",
   "execution_count": 68,
   "metadata": {},
   "outputs": [
    {
     "name": "stdout",
     "output_type": "stream",
     "text": [
      "[array([[ 1.68 ,  1.213],\n",
      "       [-0.321, -1.458],\n",
      "       [ 2.636,  4.068],\n",
      "       [ 1.395,  0.52 ],\n",
      "       [ 0.38 ,  4.078],\n",
      "       [ 4.069,  5.29 ],\n",
      "       [-0.501,  0.336],\n",
      "       [ 0.602,  2.601],\n",
      "       [-0.864,  1.622],\n",
      "       [ 3.167, -0.404],\n",
      "       [ 1.737,  1.917],\n",
      "       [ 3.405,  0.169],\n",
      "       [ 1.362, -3.626],\n",
      "       [-2.214,  0.524],\n",
      "       [ 1.491,  1.174],\n",
      "       [ 0.876, -1.269],\n",
      "       [ 1.122,  1.617],\n",
      "       [ 2.304,  1.295],\n",
      "       [-1.308, -1.68 ],\n",
      "       [-0.729,  4.233],\n",
      "       [ 6.234, -1.67 ],\n",
      "       [ 0.714,  2.631],\n",
      "       [ 0.044,  1.147],\n",
      "       [ 1.711,  0.108],\n",
      "       [-1.846,  0.631],\n",
      "       [ 1.905,  2.88 ],\n",
      "       [-0.363,  3.878],\n",
      "       [ 0.749, -0.028],\n",
      "       [ 1.435,  2.059],\n",
      "       [ 0.907, -0.293],\n",
      "       [ 3.522,  0.108],\n",
      "       [ 4.983,  1.601],\n",
      "       [ 2.481,  2.269],\n",
      "       [ 0.611,  1.987],\n",
      "       [-1.565, -0.895],\n",
      "       [ 4.147,  5.048],\n",
      "       [-0.134,  1.032],\n",
      "       [ 1.098,  0.956],\n",
      "       [ 2.819,  2.909],\n",
      "       [ 1.001,  0.105],\n",
      "       [-3.096,  3.287],\n",
      "       [ 2.53 ,  0.067],\n",
      "       [ 0.102,  0.419],\n",
      "       [-1.386,  0.146],\n",
      "       [ 1.997, -0.346],\n",
      "       [ 3.062, -1.083],\n",
      "       [ 0.78 ,  1.035],\n",
      "       [ 0.11 ,  0.648],\n",
      "       [-0.584,  4.829],\n",
      "       [ 0.84 ,  1.834],\n",
      "       [-2.68 ,  0.818],\n",
      "       [ 2.092,  0.296],\n",
      "       [-0.484,  4.467],\n",
      "       [ 1.301, -0.478],\n",
      "       [ 0.879,  1.707],\n",
      "       [ 0.947,  1.127],\n",
      "       [ 1.376,  2.876],\n",
      "       [-0.879,  0.255],\n",
      "       [-2.008,  0.207],\n",
      "       [ 2.675,  1.196],\n",
      "       [ 1.467, -0.575],\n",
      "       [ 0.362,  1.294],\n",
      "       [ 0.136,  3.252],\n",
      "       [ 0.425,  4.864],\n",
      "       [ 4.813,  1.777],\n",
      "       [ 1.082, -2.574],\n",
      "       [ 0.111, -1.277],\n",
      "       [ 1.167,  3.59 ],\n",
      "       [ 0.541,  0.539],\n",
      "       [ 1.769,  0.637],\n",
      "       [ 2.357,  2.719],\n",
      "       [-2.327,  0.121],\n",
      "       [-0.405,  4.446],\n",
      "       [ 1.947,  0.81 ],\n",
      "       [-0.083,  0.231],\n",
      "       [-1.275, -1.097],\n",
      "       [ 0.725,  0.52 ],\n",
      "       [ 0.312,  0.13 ],\n",
      "       [-0.611,  2.541],\n",
      "       [ 1.766,  2.449],\n",
      "       [ 0.679,  1.532],\n",
      "       [-1.226, -1.766],\n",
      "       [-1.285, -0.923],\n",
      "       [ 0.39 , -0.204],\n",
      "       [ 1.009,  3.569],\n",
      "       [ 1.439,  1.463],\n",
      "       [ 1.218,  3.724],\n",
      "       [ 3.346,  0.979],\n",
      "       [ 1.129, -0.226],\n",
      "       [-0.272,  2.324],\n",
      "       [ 1.553,  0.412],\n",
      "       [ 5.515, -0.136],\n",
      "       [ 2.345, -1.934],\n",
      "       [ 0.87 ,  0.874],\n",
      "       [ 3.778,  3.035],\n",
      "       [-1.166, -3.9  ],\n",
      "       [-1.314,  3.925],\n",
      "       [ 3.072, -1.088],\n",
      "       [ 0.9  ,  2.458],\n",
      "       [ 1.706, -1.315],\n",
      "       [ 3.444,  3.048],\n",
      "       [-1.107,  2.9  ],\n",
      "       [ 2.66 , -2.032],\n",
      "       [-0.248,  2.444],\n",
      "       [ 1.225, -2.666],\n",
      "       [ 3.003, -1.576],\n",
      "       [-1.457,  1.761],\n",
      "       [ 3.841,  2.541],\n",
      "       [ 2.146,  0.717],\n",
      "       [-0.587,  5.209],\n",
      "       [ 0.261,  0.568],\n",
      "       [ 2.919,  2.373],\n",
      "       [ 0.243,  5.205],\n",
      "       [ 2.891,  2.905],\n",
      "       [-2.454,  0.032],\n",
      "       [ 1.183,  5.486],\n",
      "       [ 1.893,  2.296],\n",
      "       [ 0.854, -0.537],\n",
      "       [ 0.319, -1.274],\n",
      "       [-0.594,  2.375],\n",
      "       [ 0.716,  0.21 ],\n",
      "       [ 1.455,  3.1  ],\n",
      "       [ 1.433,  5.247],\n",
      "       [ 0.378,  1.279],\n",
      "       [ 2.72 ,  5.06 ],\n",
      "       [ 0.978, -0.599],\n",
      "       [-3.835, -3.972],\n",
      "       [ 0.669,  2.069],\n",
      "       [ 2.173,  0.839],\n",
      "       [ 1.621,  3.776],\n",
      "       [ 0.167,  3.122],\n",
      "       [ 1.778,  1.046],\n",
      "       [ 0.406,  1.097],\n",
      "       [ 0.946,  0.423],\n",
      "       [-1.005,  1.621],\n",
      "       [ 1.607,  2.184],\n",
      "       [ 2.974,  2.259],\n",
      "       [-1.724,  2.76 ],\n",
      "       [ 1.203,  3.427],\n",
      "       [-0.546,  3.084],\n",
      "       [-1.706,  0.473],\n",
      "       [-1.689, -1.554],\n",
      "       [-0.966,  3.424],\n",
      "       [-0.229,  0.553],\n",
      "       [ 3.673,  2.619],\n",
      "       [ 2.96 ,  1.832],\n",
      "       [ 0.767,  0.144],\n",
      "       [ 0.175,  2.022],\n",
      "       [ 0.888, -0.583],\n",
      "       [ 1.876,  2.814],\n",
      "       [-0.289,  2.662],\n",
      "       [ 1.213, -0.162],\n",
      "       [ 2.949,  0.423],\n",
      "       [ 0.873,  0.814],\n",
      "       [-1.227,  4.238]]), array([[ 1.027, -2.626],\n",
      "       [-0.579, -2.471],\n",
      "       [-1.644,  0.726],\n",
      "       [-1.905, -0.149],\n",
      "       [-3.697, -0.614],\n",
      "       [-0.726, -2.393],\n",
      "       [-2.085,  3.252],\n",
      "       [ 2.052, -0.007],\n",
      "       [-2.046, -2.531],\n",
      "       [ 0.496, -0.08 ],\n",
      "       [-1.818, -0.161],\n",
      "       [ 1.767, -1.75 ],\n",
      "       [-3.521,  0.494],\n",
      "       [-0.527, -1.549],\n",
      "       [-2.602, -1.622],\n",
      "       [ 0.963, -1.764],\n",
      "       [ 1.181, -2.97 ],\n",
      "       [-0.343, -1.323],\n",
      "       [-3.873, -4.445],\n",
      "       [ 2.128, -1.752],\n",
      "       [-3.109,  2.113],\n",
      "       [ 2.079, -2.069],\n",
      "       [-1.416, -3.443],\n",
      "       [ 0.913, -2.182],\n",
      "       [-4.199, -4.974],\n",
      "       [-1.072, -0.928],\n",
      "       [ 0.222, -1.635],\n",
      "       [-1.087, -1.599],\n",
      "       [-1.872, -2.448],\n",
      "       [-2.91 , -0.572],\n",
      "       [-3.033, -0.935],\n",
      "       [-1.003,  0.315],\n",
      "       [-2.051, -2.353],\n",
      "       [-1.841,  0.285],\n",
      "       [-3.236, -0.538],\n",
      "       [ 3.467, -2.129],\n",
      "       [ 1.74 , -0.717],\n",
      "       [-3.523, -5.179],\n",
      "       [ 1.23 ,  0.024],\n",
      "       [-0.774, -0.21 ],\n",
      "       [-4.105, -0.362],\n",
      "       [-1.8  ,  0.97 ],\n",
      "       [-0.226, -3.74 ],\n",
      "       [-2.033,  0.868],\n",
      "       [ 1.592, -3.11 ],\n",
      "       [ 0.357, -1.525],\n",
      "       [ 0.896,  0.702],\n",
      "       [ 0.39 , -2.415],\n",
      "       [ 0.342, -0.684],\n",
      "       [ 1.771, -0.141],\n",
      "       [-4.979, -2.202],\n",
      "       [-2.031, -1.034],\n",
      "       [-0.126, -2.344],\n",
      "       [ 0.473, -0.878],\n",
      "       [ 0.361, -0.543],\n",
      "       [ 0.803, -1.849],\n",
      "       [-1.136, -2.454],\n",
      "       [-2.195, -1.012],\n",
      "       [ 1.008, -3.332],\n",
      "       [-1.422,  0.459],\n",
      "       [ 2.08 , -0.86 ],\n",
      "       [-3.001, -4.175],\n",
      "       [ 0.411, -1.393],\n",
      "       [-2.967, -0.087],\n",
      "       [-0.063,  2.776],\n",
      "       [-3.312,  0.723],\n",
      "       [ 0.24 ,  1.192],\n",
      "       [-1.406, -0.368],\n",
      "       [ 1.026,  0.214],\n",
      "       [-1.941, -1.078],\n",
      "       [-5.682, -1.54 ],\n",
      "       [-3.463, -1.095],\n",
      "       [-0.052,  0.703],\n",
      "       [-0.733,  1.995],\n",
      "       [ 0.258, -3.219],\n",
      "       [-1.325,  0.05 ],\n",
      "       [ 0.243, -1.394],\n",
      "       [-0.372, -1.201],\n",
      "       [-0.928, -2.599],\n",
      "       [-1.394, -0.207],\n",
      "       [ 0.606,  0.752],\n",
      "       [ 0.635, -1.332],\n",
      "       [ 0.475,  2.294],\n",
      "       [-0.694, -0.706],\n",
      "       [-1.481, -1.083],\n",
      "       [-4.201,  2.906],\n",
      "       [-1.961, -2.585],\n",
      "       [-0.107,  3.433],\n",
      "       [-0.677, -1.71 ],\n",
      "       [-1.975, -1.246],\n",
      "       [-2.586, -1.245],\n",
      "       [-1.58 ,  0.682],\n",
      "       [ 2.517,  3.584],\n",
      "       [-0.473, -1.832],\n",
      "       [-3.59 ,  1.173],\n",
      "       [-0.809, -3.541],\n",
      "       [-0.325, -0.974],\n",
      "       [-0.213,  3.369],\n",
      "       [-0.625,  1.143],\n",
      "       [-1.072,  2.644],\n",
      "       [-4.499, -2.135],\n",
      "       [-1.676, -2.196],\n",
      "       [-1.088, -0.688],\n",
      "       [-3.358,  2.248],\n",
      "       [-0.21 ,  0.253],\n",
      "       [-3.068, -1.699],\n",
      "       [-0.253,  0.453],\n",
      "       [-3.551,  0.523],\n",
      "       [-1.164,  1.813],\n",
      "       [-3.785, -2.966],\n",
      "       [ 1.845, -0.07 ],\n",
      "       [-0.191, -1.02 ],\n",
      "       [-1.541, -1.544],\n",
      "       [-2.132, -0.321],\n",
      "       [ 1.264, -2.071],\n",
      "       [-6.023, -0.164],\n",
      "       [-2.751, -1.772],\n",
      "       [ 3.865,  1.074],\n",
      "       [ 3.217, -3.171],\n",
      "       [-0.326, -2.378],\n",
      "       [ 0.732,  0.156],\n",
      "       [-1.056,  2.619],\n",
      "       [ 1.645, -1.11 ],\n",
      "       [-0.781, -0.605],\n",
      "       [-1.561, -1.254],\n",
      "       [ 0.29 , -0.109],\n",
      "       [-0.72 ,  0.715],\n",
      "       [-2.841, -2.416],\n",
      "       [-0.03 , -1.277],\n",
      "       [-0.656, -2.979],\n",
      "       [-1.719, -0.242],\n",
      "       [-3.148, -1.754],\n",
      "       [ 0.182, -2.38 ],\n",
      "       [-1.531, -1.027],\n",
      "       [-0.947, -1.811],\n",
      "       [-1.215, -2.611],\n",
      "       [-1.108, -0.372],\n",
      "       [ 0.862,  0.64 ],\n",
      "       [-0.697, -2.026],\n",
      "       [-2.551, -1.489],\n",
      "       [-3.613, -1.616],\n",
      "       [-2.445, -4.052],\n",
      "       [ 1.622, -2.989],\n",
      "       [ 1.337, -2.3  ],\n",
      "       [ 0.598,  1.37 ],\n",
      "       [-0.116,  2.268],\n",
      "       [-3.364, -2.499],\n",
      "       [-1.137,  0.5  ],\n",
      "       [-0.705, -1.775],\n",
      "       [-1.207, -0.69 ],\n",
      "       [ 1.872,  1.124],\n",
      "       [ 1.004, -0.928],\n",
      "       [ 0.661, -2.376],\n",
      "       [-1.211, -4.673],\n",
      "       [-0.245, -2.027],\n",
      "       [ 1.345, -4.414],\n",
      "       [ 1.522,  0.085],\n",
      "       [-2.975,  0.858],\n",
      "       [ 2.221, -0.969],\n",
      "       [ 1.476, -3.053],\n",
      "       [ 3.611, -1.847],\n",
      "       [-2.646, -1.053],\n",
      "       [-2.017, -0.927],\n",
      "       [ 0.756, -2.596],\n",
      "       [ 0.341, -3.088],\n",
      "       [-2.535,  1.701],\n",
      "       [ 0.14 , -2.242],\n",
      "       [-1.843, -1.287]]), array([[ 8.331,  9.42 ],\n",
      "       [ 7.424,  7.519],\n",
      "       [ 5.166,  6.231],\n",
      "       [ 7.5  ,  7.066],\n",
      "       [ 7.909,  7.614],\n",
      "       [ 7.22 ,  5.588],\n",
      "       [ 8.568,  6.737],\n",
      "       [ 5.859,  5.217],\n",
      "       [ 4.768,  8.359],\n",
      "       [ 4.846,  7.808],\n",
      "       [ 7.171,  4.946],\n",
      "       [11.533,  8.008],\n",
      "       [11.   ,  5.779],\n",
      "       [ 7.589,  8.271],\n",
      "       [ 5.634,  6.727],\n",
      "       [ 5.968,  4.732],\n",
      "       [ 6.059,  7.434],\n",
      "       [ 7.319,  5.556],\n",
      "       [ 8.838,  7.604],\n",
      "       [ 9.526,  4.457],\n",
      "       [ 5.893,  6.048],\n",
      "       [ 6.299,  6.529],\n",
      "       [ 8.685,  7.143],\n",
      "       [ 6.242,  4.396],\n",
      "       [ 5.032,  7.69 ],\n",
      "       [ 7.946,  7.785],\n",
      "       [ 7.376,  5.79 ],\n",
      "       [ 7.054,  8.311],\n",
      "       [ 7.65 ,  8.728],\n",
      "       [ 8.131,  6.768],\n",
      "       [ 9.055,  5.839],\n",
      "       [ 7.666,  7.13 ],\n",
      "       [ 8.658,  8.919],\n",
      "       [ 6.847,  7.401],\n",
      "       [ 8.083,  7.397],\n",
      "       [ 6.961,  5.872],\n",
      "       [ 7.801,  6.819],\n",
      "       [ 5.358,  6.605],\n",
      "       [ 6.113,  7.018],\n",
      "       [ 6.686,  8.419],\n",
      "       [ 5.628,  6.575],\n",
      "       [ 8.242, 10.016],\n",
      "       [ 7.825,  4.697],\n",
      "       [ 7.364,  6.513],\n",
      "       [ 6.467,  8.374],\n",
      "       [ 8.572,  6.252],\n",
      "       [ 6.827,  6.654],\n",
      "       [ 5.542,  5.573],\n",
      "       [ 4.432,  5.033],\n",
      "       [ 8.698,  6.381],\n",
      "       [ 7.146,  7.453],\n",
      "       [ 6.393,  7.103],\n",
      "       [ 8.89 , 10.142],\n",
      "       [10.213, 10.56 ],\n",
      "       [ 7.205,  5.885],\n",
      "       [ 7.452,  8.228],\n",
      "       [ 6.683,  5.892],\n",
      "       [ 7.505,  6.616],\n",
      "       [ 7.296,  8.827],\n",
      "       [ 5.859,  6.411],\n",
      "       [10.059,  7.809],\n",
      "       [ 5.579,  6.768],\n",
      "       [ 7.061,  7.667],\n",
      "       [ 9.66 ,  4.696],\n",
      "       [ 5.542,  6.61 ],\n",
      "       [ 8.649, 10.083],\n",
      "       [ 7.217,  8.635],\n",
      "       [ 8.599,  7.723],\n",
      "       [ 7.286,  8.484],\n",
      "       [ 7.036,  5.011],\n",
      "       [ 7.88 ,  5.178],\n",
      "       [ 7.886, 10.032],\n",
      "       [ 6.586,  5.581],\n",
      "       [ 8.814,  7.124],\n",
      "       [ 7.862,  5.971],\n",
      "       [ 7.416,  7.674],\n",
      "       [ 5.846,  6.196],\n",
      "       [ 4.44 ,  6.397],\n",
      "       [ 4.959,  5.075],\n",
      "       [ 9.357,  8.829],\n",
      "       [ 7.938,  7.502],\n",
      "       [ 7.418,  6.054],\n",
      "       [ 6.511,  6.016],\n",
      "       [ 7.531,  6.355],\n",
      "       [ 9.418,  7.181],\n",
      "       [ 6.475,  6.423],\n",
      "       [ 6.508,  8.084],\n",
      "       [ 8.093,  4.9  ],\n",
      "       [ 3.73 ,  5.143],\n",
      "       [ 6.045, 13.17 ],\n",
      "       [ 5.231,  7.189],\n",
      "       [ 7.452,  6.729],\n",
      "       [ 5.141,  4.989],\n",
      "       [ 5.694,  5.503],\n",
      "       [ 8.375,  8.698],\n",
      "       [ 8.353,  7.782],\n",
      "       [ 5.266,  7.444],\n",
      "       [ 6.676,  7.454],\n",
      "       [ 7.806,  7.754],\n",
      "       [ 7.188,  7.657],\n",
      "       [ 7.507,  7.248],\n",
      "       [ 5.612,  3.583],\n",
      "       [ 8.421,  4.288],\n",
      "       [ 7.73 ,  7.666],\n",
      "       [ 8.265,  6.225],\n",
      "       [ 5.238,  6.898],\n",
      "       [ 6.543,  6.569],\n",
      "       [ 7.196,  9.033],\n",
      "       [ 8.921,  7.054],\n",
      "       [10.186,  8.382],\n",
      "       [ 7.384,  7.772],\n",
      "       [ 7.245,  5.376],\n",
      "       [ 6.699,  3.387],\n",
      "       [ 5.81 ,  7.523],\n",
      "       [ 5.21 ,  9.206],\n",
      "       [ 9.488,  6.593],\n",
      "       [ 4.976,  7.08 ],\n",
      "       [ 8.468,  4.67 ],\n",
      "       [ 6.569,  9.053],\n",
      "       [ 5.835,  9.07 ],\n",
      "       [ 4.934,  4.329],\n",
      "       [ 3.132,  8.402],\n",
      "       [10.348,  5.195],\n",
      "       [ 6.172,  9.101],\n",
      "       [ 4.989,  8.264],\n",
      "       [ 8.717,  8.139],\n",
      "       [ 7.603,  8.046],\n",
      "       [ 7.289,  3.352],\n",
      "       [ 5.826,  7.56 ],\n",
      "       [10.048,  8.109],\n",
      "       [ 6.467,  6.277],\n",
      "       [ 8.514,  3.896]])]\n"
     ]
    }
   ],
   "source": [
    "print(clusters)"
   ]
  },
  {
   "cell_type": "markdown",
   "metadata": {
    "deletable": false,
    "editable": false,
    "nbgrader": {
     "cell_type": "markdown",
     "checksum": "4d0a4ce777b47e10bc462a35f7517e01",
     "grade": false,
     "grade_id": "cell-786fa6dbff5fb0a3",
     "locked": true,
     "schema_version": 3,
     "solution": false,
     "task": false
    }
   },
   "source": [
    "### Exercise 3.1: (10 points)\n",
    "\n",
    "Compute the within cluster covariance $S_w$ to further analyse the distribution of the data in the clusters. Sum up the covariance matrices of each cluster to get the one average within cluster corvariance matrix. **This is shown in the formula below.** Covariance matrices describe the relationship between the x and y dimensions of the data.\n",
    "\n",
    "$$\\boxed{\\Large{S_w  = \\sum_{k=1}^K \\sum_{x_i \\in C_k} (x_i - \\mu_k)^{\\top}} (x_i - \\mu_k), \\quad S_w \\in \\mathbb{R}^{(D, D)}}$$\n",
    "\n",
    "\n",
    "* Reminder: Data $C$ is a set of clusters $C_k$, where $K$ is the total number of clusters. $${\\mathcal{C} = \\{ C_1, C_2, \\cdots, C_k \\},\\quad k = \\overline{1..K}}$$\n",
    "\n",
    "* Number of elements in a cluster $k$: $${N_k = | C_k |, \\quad C_k \\in \\mathbb{R}^{(N_k, D)}}$$\n",
    "<br>\n",
    "\n",
    "* $k$-th cluster mean $\\mu_k$: $${ \\mu_k = \\frac{1}{N_k}\\sum_{x_i \\in C_k} x_i }$$\n",
    "\n",
    "* Number of loops allowed in this exercise: 1 (to iterate over the clusters)"
   ]
  },
  {
   "cell_type": "code",
   "execution_count": 69,
   "metadata": {
    "deletable": false,
    "nbgrader": {
     "cell_type": "code",
     "checksum": "8c2a5b0aa24c1322736cb5d8e9971f95",
     "grade": false,
     "grade_id": "within-cluster-cov",
     "locked": false,
     "schema_version": 3,
     "solution": true,
     "task": false
    }
   },
   "outputs": [],
   "source": [
    "@no_imports\n",
    "@max_allowed_loops(1)\n",
    "def within_cluster_cov(clusters):\n",
    "    \"\"\"\n",
    "    Calculate the within class covariance for a collection of clusters\n",
    "\n",
    "    Args:\n",
    "        clusters: A list of clusters each consisting of\n",
    "        an array of datapoints\n",
    "\n",
    "    Returns:\n",
    "        The within cluster covariance\n",
    "\n",
    "    Example:\n",
    "        >>> within_cluster_cov(\n",
    "            [array([[0.2, 0.3], [0.1, 0.2]]), array([[0.8, 0.9], [0.7, 0.5], [0.6, 0.7]])]\n",
    "        )\n",
    "        >>> array([[0.025, 0.025],\n",
    "                   [0.025, 0.085]])\n",
    "    \"\"\"\n",
    "    d = clusters[0].shape[1]\n",
    "    S_w = np.zeros((d, d))\n",
    "    \n",
    "    # YOUR CODE HERE\n",
    "    \n",
    "    means = calc_means(clusters)\n",
    "    \n",
    "    for i in range(len(clusters)):\n",
    "        X = clusters[i] - means[i]\n",
    "        S_w += X.T@X\n",
    "        \n",
    "    return S_w\n",
    "    \n",
    "    # YOUR CODE HERE\n",
    "    "
   ]
  },
  {
   "cell_type": "code",
   "execution_count": 70,
   "metadata": {
    "deletable": false,
    "editable": false,
    "nbgrader": {
     "cell_type": "code",
     "checksum": "0654f2b82371a55d5d43c74c6abf25b1",
     "grade": true,
     "grade_id": "cell-ca257344ee385a22",
     "locked": true,
     "points": 10,
     "schema_version": 3,
     "solution": false,
     "task": false
    }
   },
   "outputs": [
    {
     "name": "stdout",
     "output_type": "stream",
     "text": [
      "[[0.025 0.025]\n",
      " [0.025 0.085]]\n",
      "[[1082.97919963  -31.59139297]\n",
      " [ -31.59139297 1088.54360039]]\n"
     ]
    }
   ],
   "source": [
    "tiny_clusters = [\n",
    "    np.array([[0.2, 0.3], [0.1, 0.2]]),\n",
    "    np.array([[0.8, 0.9], [0.7, 0.5], [0.6, 0.7]]),\n",
    "]\n",
    "tiny_expected = np.array([[0.025, 0.025], [0.025, 0.085]])\n",
    "tiny_result = within_cluster_cov(tiny_clusters)\n",
    "print(tiny_result)\n",
    "np.testing.assert_allclose(tiny_expected, tiny_result)\n",
    "\n",
    "S_w = within_cluster_cov(tr_clusters)\n",
    "print(S_w)\n",
    "t.assertIsInstance(S_w, np.ndarray)\n",
    "t.assertEqual(S_w.shape, (2, 2))\n",
    "\n",
    "# check if symmetric\n",
    "np.testing.assert_allclose(S_w, S_w.T)\n"
   ]
  },
  {
   "cell_type": "code",
   "execution_count": 71,
   "metadata": {
    "deletable": false,
    "editable": false,
    "nbgrader": {
     "cell_type": "code",
     "checksum": "34bd7567682f76a5d048fade55b94f58",
     "grade": true,
     "grade_id": "cell-de6575c1f0ae9063",
     "locked": true,
     "points": 0,
     "schema_version": 3,
     "solution": false,
     "task": false
    }
   },
   "outputs": [],
   "source": [
    "# This cell is for grading"
   ]
  },
  {
   "cell_type": "markdown",
   "metadata": {
    "deletable": false,
    "editable": false,
    "nbgrader": {
     "cell_type": "markdown",
     "checksum": "40e70c8fe5d9cc14c8a59d2ab6d5f63e",
     "grade": false,
     "grade_id": "cell-bdb1eea9979a36a2",
     "locked": true,
     "schema_version": 3,
     "solution": false,
     "task": false
    }
   },
   "source": [
    "### Exercise 3.2: ( 5 + 10 points )\n",
    "\n",
    "To compute the between cluster covariance, the calculation of the mean of means is necessary. In the function `calc_mean_of_means(clusters)` you must reuse your function `calc_means(clusters)`.\n",
    "\n",
    "\n",
    "* Mean of means: $$\\Large{ \\mu = \\frac{1}{N}\\sum_{C_i \\in \\mathcal{C}}{C_i}},\\quad \\text{where}\\quad N = |\\mathcal{C}|$$\n",
    "\n",
    "\n",
    "The between cluster covariance describes the relation of the datapoints from one cluster to the other. It focuses on the differences rather then the similarities. Use the function `calc_mean_of_means(clusters)` in the function `between_cluster_cov(clusters)` to access the mean of means. **You only have to implement the given formulas**, and do not need to fully understand the underlying concept. \n",
    "\n",
    "* Between cluster covariance: $$\\boxed{\\Large{S_b = \\sum_{k=1}^K  N_k (\\mu_k - \\mu) (\\mu_k - \\mu)^{\\top}}}$$\n",
    "\n",
    "\n",
    "* Number of loops allowed in this exercise: 0 + 1 (one loop only in `between_cluster_cov(clusters)`, to iterate over the clusters)\n",
    "\n",
    "*Hint:* For the `between_cluster_cov(clusters)` consider the `np.outer` function"
   ]
  },
  {
   "cell_type": "code",
   "execution_count": 72,
   "metadata": {
    "deletable": false,
    "nbgrader": {
     "cell_type": "code",
     "checksum": "0f158114c68784a173b0dc30fdd4250e",
     "grade": false,
     "grade_id": "calc-mom",
     "locked": false,
     "schema_version": 3,
     "solution": true,
     "task": false
    }
   },
   "outputs": [],
   "source": [
    "@no_imports\n",
    "@max_allowed_loops(0)\n",
    "def calc_mean_of_means(clusters):\n",
    "    \"\"\"\n",
    "    Given a collection of datapoints divided in clusters, calculate the\n",
    "    mean of all cluster means.\n",
    "    Args:\n",
    "        clusters: A list of clusters represented in arrays\n",
    "\n",
    "    Returns:\n",
    "        A single datapoint that represents the mean of all the\n",
    "        cluster means\n",
    "    \"\"\"\n",
    "    # YOUR CODE HERE\n",
    "\n",
    "    mean_clusters = calc_means(clusters)\n",
    "    \n",
    "    return np.mean(mean_clusters, axis = 0)\n",
    "    \n",
    "    # YOUR CODE HERE\n",
    "    "
   ]
  },
  {
   "cell_type": "code",
   "execution_count": 73,
   "metadata": {
    "deletable": false,
    "editable": false,
    "nbgrader": {
     "cell_type": "code",
     "checksum": "97620d0ca68c282dddbead0b454f1447",
     "grade": true,
     "grade_id": "cell-799fb0ebced67cd2",
     "locked": true,
     "points": 5,
     "schema_version": 3,
     "solution": false,
     "task": false
    }
   },
   "outputs": [
    {
     "name": "stdout",
     "output_type": "stream",
     "text": [
      "[0.4305  0.48325]\n",
      "[2.49095645 2.50655303]\n"
     ]
    }
   ],
   "source": [
    "tiny_result = calc_mean_of_means(\n",
    "    [\n",
    "        np.array([[0.222, 0.333], [0.1, 0.2]]),\n",
    "        np.array([[0.8, 0.9], [0.7, 0.5], [0.6, 0.7]]),\n",
    "    ]\n",
    ")\n",
    "print(tiny_result)\n",
    "tiny_expected = np.array([0.4305, 0.48325])\n",
    "np.testing.assert_allclose(tiny_expected, tiny_result)\n",
    "\n",
    "mean_of_means = calc_mean_of_means(tr_clusters)\n",
    "print(mean_of_means)\n",
    "t.assertIsInstance(mean_of_means, np.ndarray)\n",
    "t.assertEqual(mean_of_means.shape, (2,))\n"
   ]
  },
  {
   "cell_type": "code",
   "execution_count": 74,
   "metadata": {
    "deletable": false,
    "editable": false,
    "nbgrader": {
     "cell_type": "code",
     "checksum": "75d380c6ec37313a4b5d03396fcfa037",
     "grade": true,
     "grade_id": "cell-dfe9f40dc0b31201",
     "locked": true,
     "points": 0,
     "schema_version": 3,
     "solution": false,
     "task": false
    }
   },
   "outputs": [],
   "source": [
    "# This cell is for grading"
   ]
  },
  {
   "cell_type": "code",
   "execution_count": 75,
   "metadata": {
    "deletable": false,
    "nbgrader": {
     "cell_type": "code",
     "checksum": "ce79d3458b6fd01e79ff156584bb1fae",
     "grade": false,
     "grade_id": "between-cluster-cov",
     "locked": false,
     "schema_version": 3,
     "solution": true,
     "task": false
    }
   },
   "outputs": [],
   "source": [
    "@no_imports\n",
    "@max_allowed_loops(1)\n",
    "def between_cluster_cov(\n",
    "    clusters,\n",
    "    cluster_means,\n",
    "    mean_of_means,\n",
    "):\n",
    "    \"\"\"\n",
    "    Calculate the covariance between clusters.\n",
    "\n",
    "    Args:\n",
    "        clusters: A list of datapoints divided by cluster\n",
    "        cluster_means: A list of vectors representing the mean\n",
    "        of each cluster\n",
    "        mean_of_means: A vector, the mean of all datapoints\n",
    "\n",
    "    Returns:\n",
    "        Covariance between clusters\n",
    "    \"\"\"\n",
    "    d = clusters[0].shape[1]\n",
    "    S_b = np.zeros((d, d))\n",
    "\n",
    "    # YOUR CODE HERE\n",
    "\n",
    "    for i in range(len(clusters)):\n",
    "        N_i = len(clusters[i])\n",
    "        M = cluster_means[i]-mean_of_means\n",
    "        S_b += N_i*M*M[:,None]\n",
    "        \n",
    "    return S_b\n",
    "    \n",
    "    # YOUR CODE HERE\n",
    "    "
   ]
  },
  {
   "cell_type": "code",
   "execution_count": 76,
   "metadata": {
    "deletable": false,
    "editable": false,
    "nbgrader": {
     "cell_type": "code",
     "checksum": "359b652cd948f9365f664bba2627dd18",
     "grade": true,
     "grade_id": "cell-5ba9704726cfac13",
     "locked": true,
     "points": 10,
     "schema_version": 3,
     "solution": false,
     "task": false
    }
   },
   "outputs": [
    {
     "name": "stdout",
     "output_type": "stream",
     "text": [
      "[[4038.65458394 3816.90860648]\n",
      " [3816.90860648 3634.69666343]]\n"
     ]
    }
   ],
   "source": [
    "tiny_clusters = [\n",
    "    np.array([[0.2, 0.3], [0.1, 0.2]]),\n",
    "    np.array([[0.8, 0.9], [0.7, 0.5], [0.6, 0.7]]),\n",
    "]\n",
    "tiny_means = [np.array([0.15, 0.25]), np.array([0.7, 0.7])]\n",
    "tiny_mean_of_means = np.array([0.425, 0.475])\n",
    "between_cluster_cov(tiny_clusters, tiny_means, tiny_mean_of_means)\n",
    "\n",
    "S_b = between_cluster_cov(tr_clusters, means, mean_of_means)\n",
    "print(S_b)\n",
    "t.assertIsInstance(S_b, np.ndarray)\n",
    "t.assertEqual(S_b.shape, (2, 2))\n",
    "np.testing.assert_allclose(S_b, S_b.T)\n",
    "\n",
    "t.assertTrue(np.all(S_b > 3000))\n",
    "t.assertTrue(np.all(S_b < 5000))\n",
    "\n"
   ]
  },
  {
   "cell_type": "code",
   "execution_count": 77,
   "metadata": {
    "deletable": false,
    "editable": false,
    "nbgrader": {
     "cell_type": "code",
     "checksum": "0f9c7073362deaad30fcb7b0813f3116",
     "grade": true,
     "grade_id": "cell-c586977da962720e",
     "locked": true,
     "points": 0,
     "schema_version": 3,
     "solution": false,
     "task": false
    }
   },
   "outputs": [],
   "source": [
    "# This cell is for grading"
   ]
  },
  {
   "cell_type": "markdown",
   "metadata": {
    "deletable": false,
    "editable": false,
    "nbgrader": {
     "cell_type": "markdown",
     "checksum": "f9ca7fe45db5440ccb904b42dddc73ea",
     "grade": false,
     "grade_id": "cell-b8ca981163477312",
     "locked": true,
     "schema_version": 3,
     "solution": false,
     "task": false
    }
   },
   "source": [
    "### Exercise 3.3 (15 points):\n",
    "\n",
    "Compute rotation matrix $W$. To find the rotation matrix you first need to find a matrix $A$ so that the within cluster covariance matrix can be transformed into the between cluster covariance matrix. \n",
    "\n",
    "$$\\Large{ S_w A = S_b}$$\n",
    "\n",
    "Next, find the eigenvalues of this matrix $A$. The eigenvectors describe the direction in which the matrix $A$ does _not_ transform and instead only scales. These vectors form the rotation matrix, as they show the directions in which the difference between $S_w$ and $S_b$ is maximized. **Implement the given formulas!**\n",
    "\n",
    "$$ \\Large{AW = \\lambda W}$$\n",
    "* Return the rotation matrix and the index of its largest axis (according to the eigenvalues).\n",
    "\n",
    "\n",
    "* Number of loops allowed in this exercise: 0"
   ]
  },
  {
   "cell_type": "code",
   "execution_count": 35,
   "metadata": {
    "deletable": false,
    "nbgrader": {
     "cell_type": "code",
     "checksum": "a10bba222ab8d28ed2c9b1ff44200359",
     "grade": false,
     "grade_id": "rotation-matrix",
     "locked": false,
     "schema_version": 3,
     "solution": true,
     "task": false
    }
   },
   "outputs": [],
   "source": [
    "@no_imports\n",
    "@max_allowed_loops(0)\n",
    "def rotation_matrix(S_w, S_b):\n",
    "    \"\"\"\n",
    "    Calculate the transformation matrix given the within- and between cluster\n",
    "    covariance matrices.\n",
    "\n",
    "    Args:\n",
    "        S_w: The within cluster covariance\n",
    "        S_b: The between cluster covariance\n",
    "\n",
    "    Returns:\n",
    "        The transformation matrix and the axis along with the transformed data achieves\n",
    "        maximal variance\n",
    "    \"\"\"\n",
    "    # YOUR CODE HERE\n",
    "    \n",
    "    # Matrix A:\n",
    "    A = np.linalg.solve(S_w, S_b)\n",
    "    \n",
    "    # Eigenvalues and rotation matrix W:\n",
    "    lam, W = np.linalg.eig(A)\n",
    "    \n",
    "    # Index of largest axis of W:\n",
    "    ax_idx = np.argmax(np.sum(W**2, axis = 1))\n",
    "    \n",
    "    return W, ax_idx\n",
    "    \n",
    "    # YOUR CODE HERE\n",
    "    "
   ]
  },
  {
   "cell_type": "code",
   "execution_count": 36,
   "metadata": {
    "deletable": false,
    "editable": false,
    "nbgrader": {
     "cell_type": "code",
     "checksum": "f3593bd37cf373edd8b5dc8dfc4d11f8",
     "grade": true,
     "grade_id": "cell-85f9448ad600c329",
     "locked": true,
     "points": 15,
     "schema_version": 3,
     "solution": false,
     "task": false
    }
   },
   "outputs": [
    {
     "name": "stdout",
     "output_type": "stream",
     "text": [
      "[[ 0.99752952 -0.63323779]\n",
      " [-0.07024856  0.7739573 ]] 0\n"
     ]
    }
   ],
   "source": [
    "tiny_S_w = np.array([[0.025, 0.025], [0.025, 0.085]])\n",
    "tiny_S_b = np.array([[0.378125, 0.309375], [0.309375, 0.253125]])\n",
    "tiny_result_M, tiny_result_max_axis = rotation_matrix(tiny_S_w, tiny_S_b)\n",
    "print(tiny_result_M, tiny_result_max_axis)\n",
    "tiny_expected_M, tiny_expected_max_axis = (\n",
    "    np.array([[0.99752952, -0.63323779], [-0.07024856, 0.7739573]]),\n",
    "    0,\n",
    ")\n",
    "np.testing.assert_allclose(tiny_expected_M, tiny_result_M)\n",
    "np.testing.assert_allclose(tiny_expected_max_axis, tiny_result_max_axis)\n",
    "\n",
    "output = rotation_matrix(S_w, S_b)\n",
    "t.assertIsInstance(output, tuple)\n",
    "t.assertEqual(len(output), 2)\n",
    "W_rot, max_axis = output\n",
    "t.assertIsInstance(W_rot, np.ndarray)\n",
    "t.assertIsInstance(max_axis, np.int64)\n",
    "t.assertEqual(W_rot.shape, (2, 2))\n"
   ]
  },
  {
   "cell_type": "code",
   "execution_count": 37,
   "metadata": {
    "deletable": false,
    "editable": false,
    "nbgrader": {
     "cell_type": "code",
     "checksum": "732e6c8335fd8fd4b4f46517fc38b9f9",
     "grade": true,
     "grade_id": "cell-86885ea99e15a2f6",
     "locked": true,
     "points": 0,
     "schema_version": 3,
     "solution": false,
     "task": false
    }
   },
   "outputs": [],
   "source": [
    "# This cell is for grading"
   ]
  },
  {
   "cell_type": "markdown",
   "metadata": {
    "deletable": false,
    "editable": false,
    "nbgrader": {
     "cell_type": "markdown",
     "checksum": "28c4cc5cfd5c8b12f6ad1e996d5ffbbf",
     "grade": false,
     "grade_id": "cell-cd26dbac2c7a4eb5",
     "locked": true,
     "schema_version": 3,
     "solution": false,
     "task": false
    }
   },
   "source": [
    "### Exercise 3.4: (6  points)\n",
    "\n",
    "Apply rotation matrix to the clusters and return the rotated clusters in a list. \n",
    "\n",
    "* Number of loops allowed in this exercise: 1 (to iterate over the clusters)"
   ]
  },
  {
   "cell_type": "code",
   "execution_count": 38,
   "metadata": {
    "deletable": false,
    "nbgrader": {
     "cell_type": "code",
     "checksum": "3c00495e43e50895f7f8dfc272e2c586",
     "grade": false,
     "grade_id": "rotate-clusters",
     "locked": false,
     "schema_version": 3,
     "solution": true,
     "task": false
    }
   },
   "outputs": [],
   "source": [
    "@no_imports\n",
    "@max_allowed_loops(1)\n",
    "def rotate_clusters(W_rot, clusters):\n",
    "    \"\"\"\n",
    "    Rotate all the datapoints in all the clusters\n",
    "\n",
    "    Args:\n",
    "        W_rot: The rotation matrix\n",
    "        clusters: The list of datapoints divided in clusters that\n",
    "        will be rotated\n",
    "\n",
    "    Returns:\n",
    "        The rotated datapoints divided by cluster\n",
    "    \"\"\"\n",
    "    # YOUR CODE HERE\n",
    "    \n",
    "    rot_clusters = [clus@W_rot for clus in clusters]\n",
    "        \n",
    "    return rot_clusters\n",
    "    \n",
    "    # YOUR CODE HERE\n",
    "    "
   ]
  },
  {
   "cell_type": "code",
   "execution_count": 39,
   "metadata": {
    "deletable": false,
    "editable": false,
    "nbgrader": {
     "cell_type": "code",
     "checksum": "894957df9aaf7cf0954f17268b540ed3",
     "grade": true,
     "grade_id": "cell-55865e4e9560a59d",
     "locked": true,
     "points": 6,
     "schema_version": 3,
     "solution": false,
     "task": false
    }
   },
   "outputs": [
    {
     "name": "stdout",
     "output_type": "stream",
     "text": [
      "[array([[0.32320508, 0.15980762],\n",
      "       [0.18660254, 0.12320508]]), array([[1.14282032, 0.37942286],\n",
      "       [0.85621778, 0.0830127 ],\n",
      "       [0.86961524, 0.30621778]])]\n"
     ]
    }
   ],
   "source": [
    "rad = np.deg2rad(30)\n",
    "c, s = np.cos(rad), np.sin(rad)\n",
    "rot30 = np.array([[c, -s], [s, c]])\n",
    "tiny_clusters = [\n",
    "    np.array([[0.2, 0.3], [0.1, 0.2]]),\n",
    "    np.array([[0.8, 0.9], [0.7, 0.5], [0.6, 0.7]]),\n",
    "]\n",
    "tiny_rotated_result = rotate_clusters(rot30, tiny_clusters)\n",
    "print(tiny_rotated_result)\n",
    "tiny_rotated_expected = [\n",
    "    np.array([[0.32320508, 0.15980762], [0.18660254, 0.12320508]]),\n",
    "    np.array(\n",
    "        [[1.14282032, 0.37942286], [0.85621778, 0.0830127], [0.86961524, 0.30621778]]\n",
    "    ),\n",
    "]\n",
    "for r, e in zip(tiny_rotated_result, tiny_rotated_expected):\n",
    "    np.testing.assert_allclose(r, e)\n",
    "\n",
    "rot_tr_clusters = rotate_clusters(W_rot, tr_clusters)\n",
    "t.assertIsInstance(rot_tr_clusters, list)\n",
    "for norm, rotated in zip(tr_clusters, rot_tr_clusters):\n",
    "    t.assertIsInstance(rotated, np.ndarray)\n",
    "    t.assertEqual(norm.shape, rotated.shape)\n"
   ]
  },
  {
   "cell_type": "code",
   "execution_count": 40,
   "metadata": {
    "deletable": false,
    "editable": false,
    "nbgrader": {
     "cell_type": "code",
     "checksum": "bd3fa03a4b415d55a19ac640b42112aa",
     "grade": true,
     "grade_id": "cell-4df38298c0692336",
     "locked": true,
     "points": 0,
     "schema_version": 3,
     "solution": false,
     "task": false
    }
   },
   "outputs": [],
   "source": [
    "# This cell is for grading"
   ]
  },
  {
   "cell_type": "markdown",
   "metadata": {
    "deletable": false,
    "editable": false,
    "nbgrader": {
     "cell_type": "markdown",
     "checksum": "9ee13ccdd9af75ee844c21ab80c51791",
     "grade": false,
     "grade_id": "cell-da2d1a30341ab871",
     "locked": true,
     "schema_version": 3,
     "solution": false,
     "task": false
    }
   },
   "source": [
    "### Goal\n",
    "\n",
    "Using the rotated clusters, we can now plot the clusters projected onto the axis with highest eigenvalue as histograms. Here we can draw a more accurate line separating the clusters than we could before. This line can be used for classifying data through drawing a simple line between clusters."
   ]
  },
  {
   "cell_type": "code",
   "execution_count": 41,
   "metadata": {
    "deletable": false,
    "editable": false,
    "nbgrader": {
     "cell_type": "code",
     "checksum": "4d6783f40a9bfeb26949705dc3c0207e",
     "grade": false,
     "grade_id": "cell-37c9f78313ddfbec",
     "locked": true,
     "schema_version": 3,
     "solution": false,
     "task": false
    }
   },
   "outputs": [
    {
     "data": {
      "image/png": "[encoded data removed]",
      "text/plain": [
       "<Figure size 576x576 with 1 Axes>"
      ]
     },
     "metadata": {
      "needs_background": "light"
     },
     "output_type": "display_data"
    },
    {
     "data": {
      "image/png": "[encoded data removed]",
      "text/plain": [
       "<Figure size 1008x360 with 1 Axes>"
      ]
     },
     "metadata": {
      "needs_background": "light"
     },
     "output_type": "display_data"
    }
   ],
   "source": [
    "plot_scatter_and_mean(rot_tr_clusters, letters)\n",
    "means = calc_means(rot_tr_clusters)\n",
    "means\n",
    "plot_projection(rot_tr_clusters, letters, means, axis=max_axis)"
   ]
  },
  {
   "cell_type": "code",
   "execution_count": null,
   "metadata": {},
   "outputs": [],
   "source": []
  }
 ],
 "metadata": {
  "kernelspec": {
   "display_name": "Python 3 (ipykernel)",
   "language": "python",
   "name": "python3"
  },
  "language_info": {
   "codemirror_mode": {
    "name": "ipython",
    "version": 3
   },
   "file_extension": ".py",
   "mimetype": "text/x-python",
   "name": "python",
   "nbconvert_exporter": "python",
   "pygments_lexer": "ipython3",
   "version": "3.9.7"
  },
  "vscode": {
   "interpreter": {
    "hash": "3b7837e62b9049ed1053017544f4fae907316b15adb741ae0ade272138f0f57a"
   }
  }
 },
 "nbformat": 4,
 "nbformat_minor": 4
}
